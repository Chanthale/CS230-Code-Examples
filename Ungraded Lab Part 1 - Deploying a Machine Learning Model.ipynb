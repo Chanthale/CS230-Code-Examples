{
 "cells": [
  {
   "cell_type": "markdown",
   "id": "6092c3bf",
   "metadata": {},
   "source": [
    "### Ungraded Lab Part 1 - Deploying a Machine Learning Model"
   ]
  },
  {
   "cell_type": "markdown",
   "id": "f58c410e",
   "metadata": {},
   "source": [
    "Welcome to this ungraded lab! If you are reading this it means you did the setup properly, nice work!\n",
    "\n",
    "This lab is all about deploying a real machine learning model, and checking what doing so feels like. More concretely, you will deploy a computer vision model trained to detect common objects in pictures. Deploying a model is one of the last steps in a prototypical machine learning lifecycle. However, we thought it would be exciting to get you to deploy a model right away. This lab uses a pretrained model called YOLOV3. This model is very convenient for two reasons: it runs really fast, and for object detection it yields accurate results.\n",
    "\n",
    "The sequence of steps/tasks to complete in this lab are as follow:\n",
    "\n",
    "1.Inspect the image data set used for object detection\n",
    "\n",
    "2.Take a look at the model itself\n",
    "\n",
    "3.Deploy the model using fastAPI"
   ]
  },
  {
   "cell_type": "markdown",
   "id": "c9e8103b",
   "metadata": {},
   "source": [
    "### Object Detection with YOLOV3\n",
    "\n",
    "Inspecting the images"
   ]
  },
  {
   "cell_type": "markdown",
   "id": "6a5972d7",
   "metadata": {},
   "source": [
    "Let's take a look at the images that will be passed to the YOLOV3 model. This will bring insight on what type of common objects are present for detection. These images are part of the ImageNet dataset."
   ]
  },
  {
   "cell_type": "code",
   "execution_count": 8,
   "id": "78b62e9a",
   "metadata": {},
   "outputs": [
    {
     "ename": "ModuleNotFoundError",
     "evalue": "No module named 'cv2'",
     "output_type": "error",
     "traceback": [
      "\u001b[1;31m---------------------------------------------------------------------------\u001b[0m",
      "\u001b[1;31mModuleNotFoundError\u001b[0m                       Traceback (most recent call last)",
      "\u001b[1;32m<ipython-input-8-87f4d90840a2>\u001b[0m in \u001b[0;36m<module>\u001b[1;34m\u001b[0m\n\u001b[0;32m      1\u001b[0m \u001b[1;32mimport\u001b[0m \u001b[0mos\u001b[0m\u001b[1;33m\u001b[0m\u001b[1;33m\u001b[0m\u001b[0m\n\u001b[0;32m      2\u001b[0m \u001b[1;32mimport\u001b[0m \u001b[0mio\u001b[0m\u001b[1;33m\u001b[0m\u001b[1;33m\u001b[0m\u001b[0m\n\u001b[1;32m----> 3\u001b[1;33m \u001b[1;32mimport\u001b[0m \u001b[0mcv2\u001b[0m\u001b[1;33m\u001b[0m\u001b[1;33m\u001b[0m\u001b[0m\n\u001b[0m\u001b[0;32m      4\u001b[0m \u001b[1;32mimport\u001b[0m \u001b[0mrequests\u001b[0m\u001b[1;33m\u001b[0m\u001b[1;33m\u001b[0m\u001b[0m\n\u001b[0;32m      5\u001b[0m \u001b[1;32mimport\u001b[0m \u001b[0mnumpy\u001b[0m \u001b[1;32mas\u001b[0m \u001b[0mnp\u001b[0m\u001b[1;33m\u001b[0m\u001b[1;33m\u001b[0m\u001b[0m\n",
      "\u001b[1;31mModuleNotFoundError\u001b[0m: No module named 'cv2'"
     ]
    }
   ],
   "source": [
    "import os\n",
    "import io\n",
    "import cv2\n",
    "import requests\n",
    "import numpy as np\n",
    "from IPython.display import Image, display"
   ]
  },
  {
   "cell_type": "code",
   "execution_count": null,
   "id": "71bb8f63",
   "metadata": {},
   "outputs": [],
   "source": []
  }
 ],
 "metadata": {
  "kernelspec": {
   "display_name": "Python 3",
   "language": "python",
   "name": "python3"
  },
  "language_info": {
   "codemirror_mode": {
    "name": "ipython",
    "version": 3
   },
   "file_extension": ".py",
   "mimetype": "text/x-python",
   "name": "python",
   "nbconvert_exporter": "python",
   "pygments_lexer": "ipython3",
   "version": "3.8.8"
  }
 },
 "nbformat": 4,
 "nbformat_minor": 5
}
